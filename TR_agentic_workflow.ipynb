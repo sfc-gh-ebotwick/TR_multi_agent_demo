{
 "cells": [
  {
   "cell_type": "code",
   "execution_count": 1,
   "metadata": {},
   "outputs": [],
   "source": [
    "import pandas as pd\n",
    "import numpy as np"
   ]
  },
  {
   "cell_type": "code",
   "execution_count": null,
   "metadata": {},
   "outputs": [],
   "source": [
    "from snowflake.cortex import complete\n",
    "from trulens.core.otel.instrument import instrument\n",
    "from trulens.otel.semconv.trace import SpanAttributes\n",
    "\n",
    "class Multi_Agent_App:\n",
    "\n",
    "    def agent_1_cortex_analyst(self, client: str) -> list:\n",
    "        \"\"\"\n",
    "        takes client and inserts into predefined prompt and passes to cortex analyst to return list of products client uses today\n",
    "        \"\"\"\n",
    "        request_body = {\n",
    "            \"messages\": [f\"Show me all products used by {client} today\"],\n",
    "            \"semantic_model_file\": f\"@{DATABASE}.{SCHEMA}.{STAGE}/{FILE}\",\n",
    "        }\n",
    "        resp = _snowflake.send_snow_api_request(...)\n",
    "\n",
    "        products = session.sql(resp).collect()\n",
    "\n",
    "        return products\n",
    "    \n",
    "    def agent_2_web_serach(self, client: str) -> list:\n",
    "        \"\"\" \n",
    "        calls api to google client name and return top three new articles. Use bs4 or similar library to parse web results\n",
    "        take parsed web result and pass to cortex LLM for summariziation\n",
    "        \"\"\"\n",
    "\n",
    "        \n",
    "\n",
    "    return cortex_llm_summary\n",
    "\n",
    "\n",
    "    def agent_3_web_serach(self, client: str) -> list:\n",
    "        \"\"\" \n",
    "        calls api to google client name and return top three articles. Use bs4 or similar library to parse web results\n",
    "        take parsed web result and pass to cortex LLM for summariziation\n",
    "        \"\"\"\n",
    "    return cortex_llm_summary\n",
    "\n",
    "    def agent_4_prep_pitch(self, client: str) -> list:\n",
    "        \"\"\" \n",
    "        calls api to google client name and return top three articles. Use bs4 or similar library to parse web results\n",
    "        take parsed web result and pass to cortex LLM for summariziation\n",
    "        \"\"\"\n",
    "        products = self.agent_1_cortex_analyst(client)\n",
    "        news = self.agent_2_web_search(client)\n",
    "        news = self.agent_2_web_search(client)\n",
    "        prep_pitch = complete('claude-3-5-sonnet', f\"prepare a product pitch based on the following products being used and the{products}\")\n",
    "    return cortex_llm_summary\n",
    "\n",
    "\n",
    "\n",
    "\n",
    "rag = RAG()"
   ]
  }
 ],
 "metadata": {
  "kernelspec": {
   "display_name": "snow_tru_py311",
   "language": "python",
   "name": "python3"
  },
  "language_info": {
   "codemirror_mode": {
    "name": "ipython",
    "version": 3
   },
   "file_extension": ".py",
   "mimetype": "text/x-python",
   "name": "python",
   "nbconvert_exporter": "python",
   "pygments_lexer": "ipython3",
   "version": "3.11.9"
  }
 },
 "nbformat": 4,
 "nbformat_minor": 2
}
