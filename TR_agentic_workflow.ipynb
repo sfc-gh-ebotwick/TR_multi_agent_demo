{
 "metadata": {
  "kernelspec": {
   "display_name": "snow_tru_py311",
   "language": "python",
   "name": "python3"
  },
  "language_info": {
   "codemirror_mode": {
    "name": "ipython",
    "version": 3
   },
   "file_extension": ".py",
   "mimetype": "text/x-python",
   "name": "python",
   "nbconvert_exporter": "python",
   "pygments_lexer": "ipython3",
   "version": "3.11.9"
  },
  "lastEditStatus": {
   "notebookId": "4tuq7f72dq5lt5syjajc",
   "authorId": "5095547476787",
   "authorName": "EBOTWICK",
   "authorEmail": "elliott.botwick@snowflake.com",
   "sessionId": "6a3c52de-1d0b-4e4b-8186-26e30423ed83",
   "lastEditTime": 1743434893638
  }
 },
 "nbformat_minor": 2,
 "nbformat": 4,
 "cells": [
  {
   "cell_type": "code",
   "id": "dbec7150-dfc0-47d5-a10e-f05d5895760e",
   "metadata": {
    "language": "python",
    "name": "cell6"
   },
   "outputs": [],
   "source": "import streamlit as st\nimport pandas as pd\nimport numpy as np\nfrom faker import Faker\nimport random\n\nfrom snowflake.snowpark.context import get_active_session\n\n\nsession = get_active_session()",
   "execution_count": null
  },
  {
   "cell_type": "code",
   "id": "a265202c-9003-4bcb-8b72-a6735ca9094a",
   "metadata": {
    "language": "python",
    "name": "cell4"
   },
   "outputs": [],
   "source": "#Synthetically create a dataframe of customers, products, contract val, and received revenue\nfake = Faker()\n\ndef generate_customer_data(num_customers=100):\n    \"\"\"Generates mock customer data.\"\"\"\n\n    data = []\n    product_list =[\"Cortex Search\",\"Cortex Analyst\",\n                \"DocAI\",\"Feature Store\",\n                \"Model Registry\",\"Cortex Agents\"]\n    \n    for _ in range(num_customers):\n        customer_name = fake.company()\n        products = random.sample(product_list\n,\n            random.randint(1, 4),\n        )\n        total_contract_value = round(random.uniform(1000, 100000), 2)\n        revenue_received = round(random.uniform(0, total_contract_value), 2)\n\n        data.append(\n            {\n                \"Customer\": customer_name,\n                \"Total_Contract_Value\": total_contract_value,\n                \"Revenue_Received\": revenue_received,\n                \"Products_List\": products,\n\n            }\n        )\n    df = pd.DataFrame(data)\n\n    for product in product_list:\n        df[f\"{product.replace(' ', '_')}_User\"] = df['Products_List'].apply(lambda x: 'Y' if product in x else 'N')\n\n    # df = df[[\"Customer\",\"Products_List\", \"Cortex_Search_user\", \"Cortex_Analyst_user\", \n    # \"DocAI_user\", \"Feature_Store_user\", \"Model_Registry_user\", \"Cortex_Agents_user\",\n    # \"Total_Contract_Value\", \"Revenue_Received\"]]\n\n    # df = df[[\"Customer\",\"Products_List\",\"Model_Registry_User\",\n    #         \"Cortex_Search_User\",\"Feature_Store_User\",\"Cortex_Agents_User\",\n    #         \"Total_Contract_Value\",\"Revenue_Received\"]]\n\n    return df\n\n# Generate and display the DataFrame\ndf = generate_customer_data()\ndf.head()\ndf.columns",
   "execution_count": null
  },
  {
   "cell_type": "code",
   "id": "7884aebc-e85a-4a67-8664-4664d98b9ac2",
   "metadata": {
    "language": "python",
    "name": "cell12"
   },
   "outputs": [],
   "source": "df.head()",
   "execution_count": null
  },
  {
   "cell_type": "code",
   "id": "97ce10d6-35e8-429c-93a2-26559beb239e",
   "metadata": {
    "language": "python",
    "name": "cell5"
   },
   "outputs": [],
   "source": "session.write_pandas(df, \"CUSTOMER_PRODUCT_DATA\", auto_create_table=True, quote_identifiers = False, overwrite=True)",
   "execution_count": null
  },
  {
   "cell_type": "code",
   "id": "5e401c13-7f55-4da9-9846-b2da6b8c23ba",
   "metadata": {
    "language": "sql",
    "name": "cell8"
   },
   "outputs": [],
   "source": "SHOW TABLES;",
   "execution_count": null
  },
  {
   "cell_type": "code",
   "id": "778a1d23-ddb6-4b8b-aee4-1feb7aef72b0",
   "metadata": {
    "language": "sql",
    "name": "cell1"
   },
   "outputs": [],
   "source": "CREATE OR REPLACE STAGE SEMANTIC DIRECTORY = ( ENABLE = true );",
   "execution_count": null
  },
  {
   "cell_type": "markdown",
   "id": "7acc6bf4-45ac-49e0-b535-ae64fc4d2ada",
   "metadata": {
    "name": "cell7"
   },
   "source": ""
  },
  {
   "cell_type": "markdown",
   "id": "4720f417-0bdf-4990-b36e-99f0a96c9c58",
   "metadata": {
    "name": "create_semantic_model_via_UI",
    "collapsed": false
   },
   "source": "# We will now create the semantic model to query our new data with natural language\n\n* To do so, first go to the AI Studio in snowsight and click the Cortex Analyst Tab\n\n* Choose the appropriate database and schema the select the SEMANTIC stage we just created\n\n* Click Create New\n\n* Fill out the Description - \n    * \"Semantic model containing information about customer product data including the customer name, which products they currently use, their total contract value, and the amount of revenue we have received from the customer\"\n\n* Select the CUSTOMER_PRODUCT_DATA table and select all columns\n"
  },
  {
   "cell_type": "code",
   "id": "22d4c5b0-b88e-4109-91c9-0d5b99553428",
   "metadata": {
    "language": "python",
    "name": "cell10"
   },
   "outputs": [],
   "source": "data = session.table(\"CUSTOMER_PRODUCT_DATA\")\ndata.show(3)",
   "execution_count": null
  },
  {
   "cell_type": "code",
   "id": "5998dc6b-f680-48fd-9d30-6644541e98ac",
   "metadata": {
    "language": "python",
    "name": "cell9"
   },
   "outputs": [],
   "source": "## Start testing cortex analyst api call here\nfrom typing import List, Dict, Optional\nimport _snowflake\n\n\nclass CortexAnalyst():\n    def __init__(self, db: str, schema: str, stage: str, semantic_model_file_path: str):\n        self.db = db\n        self.schema = schema\n        self.stage = stage\n        self.semantic_model_file_path = semantic_model_file_path\n\n\n    # @instrument\n    def send_message(self, prompt: str) -> dict:\n\n        \"\"\"Calls the REST API and returns the response.\"\"\"\n        \n        messages = []\n        messages.append({\"role\": \"user\", \"content\": [{\"type\": \"text\", \"text\": prompt}]})\n        request_body = {\n            \"messages\": messages, #need to wrap in a list?\n            \"semantic_model_file\": f\"@{self.db}.{self.schema}.{self.stage}/{self.semantic_model_file_path}\",\n        }\n\n        print(request_body)\n\n        resp = _snowflake.send_snow_api_request(\n            \"POST\",\n            f\"/api/v2/cortex/analyst/message\",\n            {},\n            {},\n            request_body,\n            {},\n            30000,\n        )\n        if resp[\"status\"] < 400:\n            return json.loads(resp[\"content\"])\n        else:\n            # messages.pop()\n            raise Exception(\n                f\"Failed request with status {resp['status']}: {resp}\"\n            )\n    # @instrument\n    def process_message(self, prompt: str) -> None:\n        \"\"\"Processes a message and adds the response to the chat.\"\"\"\n        messages=[]\n        messages.append(\n            {\"role\": \"user\", \"content\": [{\"type\": \"text\", \"text\": prompt}]}\n        )\n        with st.chat_message(\"user\"):\n            st.markdown(prompt)\n        with st.chat_message(\"assistant\"):\n            with st.spinner(\"Generating response...\"):\n                # response = \"who had the most rec yards week 10\"\n                response = self.send_message(prompt=prompt)\n                request_id = response[\"request_id\"]\n                content = response[\"message\"][\"content\"]\n                messages.append(\n                    {**response['message'], \"request_id\": request_id}\n                )\n                self.display_content(content=content, request_id=request_id)  # type: ignore[arg-type]\n        return response\n    \n    # @instrument\n    def display_content(self,\n        content: List[Dict[str, str]],\n        request_id: Optional[str] = None,\n        message_index: Optional[int] = None,\n    ) -> None:\n        \"\"\"Displays a content item for a message.\"\"\"\n        PROMPT = prompt\n        message_index = message_index or len(PROMPT)\n        if request_id:\n            with st.expander(\"Request ID\", expanded=False):\n                st.markdown(request_id)\n        for item in content:\n            if item[\"type\"] == \"text\":\n                st.markdown(item[\"text\"])\n            elif item[\"type\"] == \"suggestions\":\n                with st.expander(\"Suggestions\", expanded=True):\n                    for suggestion_index, suggestion in enumerate(item[\"suggestions\"]):\n                        if st.button(suggestion, key=f\"{message_index}_{suggestion_index}\"):\n                            st.session_state.active_suggestion = suggestion\n            elif item[\"type\"] == \"sql\":\n                self.display_sql(item[\"statement\"])\n\n    # @instrument\n    def display_sql(self, sql: str) -> None:\n        with st.expander(\"SQL Query\", expanded=False):\n            st.code(sql, language=\"sql\")\n        with st.expander(\"Results\", expanded=True):\n            with st.spinner(\"Running SQL...\"):\n                session = get_active_session()\n                df = session.sql(sql).to_pandas()\n                if len(df.index) > 1:\n                    data_tab, line_tab, bar_tab = st.tabs(\n                        [\"Data\", \"Line Chart\", \"Bar Chart\"]\n                    )\n                    data_tab.dataframe(df)\n                    if len(df.columns) > 1:\n                        df = df.set_index(df.columns[0])\n                    with line_tab:\n                        st.line_chart(df)\n                    with bar_tab:\n                        st.bar_chart(df)\n                else:\n                    st.dataframe(df)\n\n        return df.to_markdown(index=False)\n\nCA = CortexAnalyst(db='TR_MULTI_AGENT', schema='PUBLIC', stage='SEMANTIC', semantic_model_file_path='customer_product_data_model.yaml')",
   "execution_count": null
  },
  {
   "cell_type": "code",
   "id": "a2252f77-2fea-4ee4-b3e5-beb7e9bbefc2",
   "metadata": {
    "language": "python",
    "name": "cell14"
   },
   "outputs": [],
   "source": "CA.process_message(prompt='Show me all the products for Allen and Sons')",
   "execution_count": null
  },
  {
   "cell_type": "code",
   "id": "7efbf2ab-7dc6-4757-89c9-b3a8a4ce0751",
   "metadata": {
    "language": "python",
    "name": "cell11"
   },
   "outputs": [],
   "source": "import json\n\nprompt = 'Show me all the products for Allen and Sons'\n\nmessages = []\n\nmessages.append(\n    {\"role\": \"user\", \"content\": [{\"type\": \"text\", \"text\": prompt}]}\n)\n\nrequest_body = {\n    \"messages\": messages,\n    \"semantic_model_file\": f\"@TR_MULTI_AGENT.PUBLIC.SEMANTIC/customer_product_data_model.yaml\",\n}\n\nprint (request_body)\nresp = _snowflake.send_snow_api_request(\n    \"POST\",\n    f\"/api/v2/cortex/analyst/message\",\n    {},\n    {},\n    request_body,\n    {},\n    30000,\n)\n\n# resp\nif resp[\"status\"] < 400:\n    print( json.loads(resp[\"content\"]))\nelse:\n    raise Exception(\n        f\"Failed request with status {resp['status']}: {resp}\"\n    )",
   "execution_count": null
  },
  {
   "cell_type": "code",
   "id": "289d8322-8baf-4f50-b7be-c8ae36878c3c",
   "metadata": {
    "language": "python",
    "name": "cell13"
   },
   "outputs": [],
   "source": "session.sql(\"WITH __customer_product_data AS (\\n  SELECT\\n    customer,\\n    products_list\\n  FROM tr_multi_agent.public.customer_product_data\\n)\\nSELECT DISTINCT\\n  CAST(f.value AS TEXT) AS product_name\\nFROM __customer_product_data, TABLE(FLATTEN(products_list)) AS f\\nWHERE\\n  customer = 'Allen and Sons'\\nORDER BY\\n  product_name\\n -- Generated by Cortex Analyst\\n;\").collect()[0][0]",
   "execution_count": null
  },
  {
   "cell_type": "code",
   "id": "a37be0ac-1f26-4710-bada-54ca0946d4de",
   "metadata": {
    "language": "python",
    "name": "cell3",
    "codeCollapsed": false
   },
   "outputs": [],
   "source": "from snowflake.snowpark import functions as F\nimport pandas as pd\nimport random\nfrom datetime import datetime, timedelta\n\n# Define parameters\nnum_orders = 10000  # Number of orders to generate\n\n# Sample data\ncustomers = [\"Alpha Corp\", \"Beta Ltd\", \"Gamma Inc\", \"Delta LLC\", \"Epsilon SA\"]\nproducts = [\"Steel Rods\", \"Copper Wires\", \"Aluminum Sheets\", \"Brass Fittings\", \"Iron Pipes\"]\nstatuses = [\"Pending\", \"Shipped\", \"Delivered\", \"Cancelled\"]\n\n# Generate random sales orders\norders = []\nstart_date = datetime(2024, 1, 1)\n\nfor i in range(num_orders):\n    customer_id = f\"ORD{1000 + i}\"\n    customer = random.choice(customers)\n    product = random.choice(products)\n    quantity = random.randint(10, 500)\n    unit_price = round(random.uniform(5.0, 50.0), 2)\n    total_price = round(quantity * unit_price, 2)\n    order_date = start_date + timedelta(days=random.randint(0, 365))\n    country = random.choice(countries)\n    status = random.choice(statuses)\n    \n    orders.append([order_id, customer, product, quantity, unit_price, total_price, order_date, country, status])\n\n# Create DataFrame\ndf_orders = pd.DataFrame(orders, columns=[\n    \"ORDER_ID\", \"CUSTOMER\", \"PRODUCT\", \"QUANTITY\", \"UNIT_PRICE\", \"TOTAL_PRICE\", \"ORDER_DATE\", \"COUNTRY\", \"STATUS\"\n])\n\ncustomer_orders = session.write_pandas(df_orders[['CUSTOMER','ORDER_ID']].drop_duplicates(), table_name='CUSTOMER_ORDERS', overwrite=True)\norders = session.create_dataframe(df_orders[['ORDER_ID','ORDER_DATE','PRODUCT','QUANTITY','COUNTRY','STATUS']].drop_duplicates())\norders = orders.with_column(\"ORDER_DATE\", col(\"ORDER_DATE\").cast(T.DateType()))\norders.write.mode(\"overwrite\").save_as_table('ORDERS', mode='overwrite')\nproducts = df_orders[['PRODUCT','UNIT_PRICE']].groupby('PRODUCT').max().reset_index()\nproducts = session.write_pandas(products, table_name='PRODUCTS', overwrite=True)",
   "execution_count": null
  },
  {
   "cell_type": "code",
   "execution_count": null,
   "metadata": {
    "name": "cell2",
    "language": "python"
   },
   "outputs": [],
   "source": [
    "from snowflake.cortex import complete\n",
    "from trulens.core.otel.instrument import instrument\n",
    "from trulens.otel.semconv.trace import SpanAttributes\n",
    "\n",
    "class Multi_Agent_App:\n",
    "\n",
    "    def agent_1_cortex_analyst(self, client: str) -> list:\n",
    "        \"\"\"\n",
    "        takes client and inserts into predefined prompt and passes to cortex analyst to return list of products client uses today\n",
    "        \"\"\"\n",
    "        request_body = {\n",
    "            \"messages\": [f\"Show me all products used by {client} today\"],\n",
    "            \"semantic_model_file\": f\"@{DATABASE}.{SCHEMA}.{STAGE}/{FILE}\",\n",
    "        }\n",
    "        resp = _snowflake.send_snow_api_request(...)\n",
    "\n",
    "        products = session.sql(resp).collect()\n",
    "\n",
    "        return products\n",
    "    \n",
    "    def agent_2_web_serach(self, client: str) -> list:\n",
    "        \"\"\" \n",
    "        calls api to google client name and return top three new articles. Use bs4 or similar library to parse web results\n",
    "        take parsed web result and pass to cortex LLM for summariziation\n",
    "        \"\"\"\n",
    "\n",
    "        \n",
    "\n",
    "    return cortex_llm_summary\n",
    "\n",
    "\n",
    "    def agent_3_web_serach(self, client: str) -> list:\n",
    "        \"\"\" \n",
    "        calls api to google client name and return top three articles. Use bs4 or similar library to parse web results\n",
    "        take parsed web result and pass to cortex LLM for summariziation\n",
    "        \"\"\"\n",
    "    return cortex_llm_summary\n",
    "\n",
    "    def agent_4_prep_pitch(self, client: str) -> list:\n",
    "        \"\"\" \n",
    "        calls api to google client name and return top three articles. Use bs4 or similar library to parse web results\n",
    "        take parsed web result and pass to cortex LLM for summariziation\n",
    "        \"\"\"\n",
    "        products = self.agent_1_cortex_analyst(client)\n",
    "        news = self.agent_2_web_search(client)\n",
    "        news = self.agent_2_web_search(client)\n",
    "        prep_pitch = complete('claude-3-5-sonnet', f\"prepare a product pitch based on the following products being used and the{products}\")\n",
    "    return cortex_llm_summary\n",
    "\n",
    "\n",
    "\n",
    "\n",
    "rag = RAG()"
   ],
   "id": "ce110000-1111-2222-3333-ffffff000001"
  }
 ]
}